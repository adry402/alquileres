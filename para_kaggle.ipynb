{
 "cells": [
  {
   "cell_type": "code",
   "execution_count": 1,
   "metadata": {},
   "outputs": [
    {
     "name": "stderr",
     "output_type": "stream",
     "text": [
      "\n",
      "Bad key \"backend.qt4\" on line 43 in\n",
      "/etc/matplotlib/matplotlibrc.\n",
      "You probably need to get an updated matplotlibrc file from\n",
      "https://github.com/matplotlib/matplotlib/blob/v3.2.2/matplotlibrc.template\n",
      "or from the matplotlib source distribution\n"
     ]
    }
   ],
   "source": [
    "import pandas as pd\n",
    "import numpy as np\n",
    "import matplotlib\n",
    "import matplotlib.pyplot as plt\n",
    "import seaborn as sns\n",
    "import missingno as msno\n",
    "import string\n",
    "import re\n",
    "from collections import Counter\n",
    "import statsmodels.api as sm\n",
    "import statsmodels.formula.api as smf\n",
    "from pandas.api.types import is_string_dtype, is_numeric_dtype    \n",
    "plt.style.use('ggplot')\n",
    "\n"
   ]
  },
  {
   "cell_type": "code",
   "execution_count": 2,
   "metadata": {},
   "outputs": [
    {
     "data": {
      "text/plain": [
       "{'encoding': 'utf-8', 'confidence': 0.99, 'language': ''}"
      ]
     },
     "execution_count": 2,
     "metadata": {},
     "output_type": "execute_result"
    }
   ],
   "source": [
    "import chardet\n",
    "with open('test.csv', 'rb') as rawdata:\n",
    "    result = chardet.detect(rawdata.read(100000))\n",
    "result"
   ]
  },
  {
   "cell_type": "code",
   "execution_count": 25,
   "metadata": {},
   "outputs": [
    {
     "name": "stdout",
     "output_type": "stream",
     "text": [
      "(12308, 16)\n"
     ]
    },
    {
     "data": {
      "text/html": [
       "<div>\n",
       "<style scoped>\n",
       "    .dataframe tbody tr th:only-of-type {\n",
       "        vertical-align: middle;\n",
       "    }\n",
       "\n",
       "    .dataframe tbody tr th {\n",
       "        vertical-align: top;\n",
       "    }\n",
       "\n",
       "    .dataframe thead th {\n",
       "        text-align: right;\n",
       "    }\n",
       "</style>\n",
       "<table border=\"1\" class=\"dataframe\">\n",
       "  <thead>\n",
       "    <tr style=\"text-align: right;\">\n",
       "      <th></th>\n",
       "      <th>id</th>\n",
       "      <th>start_date</th>\n",
       "      <th>end_date</th>\n",
       "      <th>created_on</th>\n",
       "      <th>lat</th>\n",
       "      <th>lon</th>\n",
       "      <th>l3</th>\n",
       "      <th>rooms</th>\n",
       "      <th>bedrooms</th>\n",
       "      <th>bathrooms</th>\n",
       "      <th>surface_total</th>\n",
       "      <th>surface_covered</th>\n",
       "      <th>price</th>\n",
       "      <th>title</th>\n",
       "      <th>description</th>\n",
       "      <th>barrio_aumentado</th>\n",
       "    </tr>\n",
       "  </thead>\n",
       "  <tbody>\n",
       "    <tr>\n",
       "      <th>0</th>\n",
       "      <td>44678</td>\n",
       "      <td>1/4/2021</td>\n",
       "      <td>15/4/2021</td>\n",
       "      <td>1/4/2021</td>\n",
       "      <td>-34,6274551</td>\n",
       "      <td>-58,4256599</td>\n",
       "      <td>boedo</td>\n",
       "      <td>2.0</td>\n",
       "      <td>1.0</td>\n",
       "      <td>1.0</td>\n",
       "      <td>35.0</td>\n",
       "      <td>32.0</td>\n",
       "      <td>NaN</td>\n",
       "      <td>departamento - boedo</td>\n",
       "      <td>departamento 2 ambientes con piscina/terraza/s...</td>\n",
       "      <td>boedo</td>\n",
       "    </tr>\n",
       "    <tr>\n",
       "      <th>1</th>\n",
       "      <td>44679</td>\n",
       "      <td>1/4/2021</td>\n",
       "      <td>15/4/2021</td>\n",
       "      <td>1/4/2021</td>\n",
       "      <td>-34,5728929</td>\n",
       "      <td>-58,4781891</td>\n",
       "      <td>villa urquiza</td>\n",
       "      <td>1.0</td>\n",
       "      <td>NaN</td>\n",
       "      <td>1.0</td>\n",
       "      <td>45.0</td>\n",
       "      <td>45.0</td>\n",
       "      <td>NaN</td>\n",
       "      <td>departamento - villa urquiza</td>\n",
       "      <td>ole. corredor silvia serrano cpi 3809&lt;br&gt;venta...</td>\n",
       "      <td>villaurquiza</td>\n",
       "    </tr>\n",
       "    <tr>\n",
       "      <th>2</th>\n",
       "      <td>44680</td>\n",
       "      <td>1/4/2021</td>\n",
       "      <td>15/4/2021</td>\n",
       "      <td>1/4/2021</td>\n",
       "      <td>-34,5381138</td>\n",
       "      <td>-58,4654894</td>\n",
       "      <td>nuñez</td>\n",
       "      <td>2.0</td>\n",
       "      <td>1.0</td>\n",
       "      <td>2.0</td>\n",
       "      <td>61.0</td>\n",
       "      <td>61.0</td>\n",
       "      <td>NaN</td>\n",
       "      <td>departamento muy buen departamento en edificio...</td>\n",
       "      <td>excelente departamento en edificio de categorí...</td>\n",
       "      <td>nunez</td>\n",
       "    </tr>\n",
       "  </tbody>\n",
       "</table>\n",
       "</div>"
      ],
      "text/plain": [
       "      id start_date   end_date created_on          lat          lon  \\\n",
       "0  44678   1/4/2021  15/4/2021   1/4/2021  -34,6274551  -58,4256599   \n",
       "1  44679   1/4/2021  15/4/2021   1/4/2021  -34,5728929  -58,4781891   \n",
       "2  44680   1/4/2021  15/4/2021   1/4/2021  -34,5381138  -58,4654894   \n",
       "\n",
       "              l3  rooms  bedrooms  bathrooms  surface_total  surface_covered  \\\n",
       "0          boedo    2.0       1.0        1.0           35.0             32.0   \n",
       "1  villa urquiza    1.0       NaN        1.0           45.0             45.0   \n",
       "2          nuñez    2.0       1.0        2.0           61.0             61.0   \n",
       "\n",
       "   price                                              title  \\\n",
       "0    NaN                               departamento - boedo   \n",
       "1    NaN                       departamento - villa urquiza   \n",
       "2    NaN  departamento muy buen departamento en edificio...   \n",
       "\n",
       "                                         description barrio_aumentado  \n",
       "0  departamento 2 ambientes con piscina/terraza/s...            boedo  \n",
       "1  ole. corredor silvia serrano cpi 3809<br>venta...     villaurquiza  \n",
       "2  excelente departamento en edificio de categorí...            nunez  "
      ]
     },
     "execution_count": 25,
     "metadata": {},
     "output_type": "execute_result"
    }
   ],
   "source": [
    "df_completo = pd.read_csv(\"test.csv\",\";\")\n",
    "df_completo.drop(['Unnamed: 0'], axis=1, inplace=True)\n",
    "print(df_completo.shape)\n",
    "df_completo.head(3)"
   ]
  },
  {
   "cell_type": "code",
   "execution_count": 26,
   "metadata": {},
   "outputs": [],
   "source": [
    "df_completo['description'] = df_completo['description'].str.replace(\"baño\",\"banio\")\n",
    "df_completo['description'] = df_completo['description'].str.replace(\"balcón\",\"balcon\")\n",
    "df_completo['description'] = df_completo['description'].str.replace(\"balcã³n\",\"balcon\")\n",
    "\n",
    "\n",
    "df_completo['description'] = df_completo['description'].str.replace(\"antigüedad\",\"antiguedad\")\n",
    "df_completo['description'] = df_completo['description'].str.replace(\"años\",\"anios\")\n",
    "df_completo['description'] = df_completo['description'].str.replace(\"año\",\"anio\")\n",
    "df_completo['description'] = df_completo['description'].str.replace(\"dúplex\",\"duplex\")\n",
    "df_completo['description'] = df_completo['description'].str.replace(\"baã±o\",\"banio\")\n",
    "df_completo['description'] = df_completo['description'].str.replace(\"agã¼ero\",\"aguero\")\n",
    "df_completo['description'] = df_completo['description'].str.replace(\"pueyrredã³n\",\"pueyrredon\")\n",
    "df_completo['description'] = df_completo['description'].str.replace(\"mã¡s\",\"mas\")\n",
    "df_completo['description'] = df_completo['description'].str.replace(\"despuã©s\",\"despues\")\n",
    "\n",
    "\n",
    "df_completo['barrio_aumentado'] = df_completo['barrio_aumentado'].str.replace(\"las caÃ±itas\",\"palermo\")\n",
    "df_completo['barrio_aumentado'] = df_completo['barrio_aumentado'].str.replace(\"centro / microcentro\",\"san nicolas\")\n",
    "df_completo['barrio_aumentado'] = df_completo['barrio_aumentado'].str.replace(\"tribunales\",\"san nicolas\")\n",
    "df_completo['barrio_aumentado'] = df_completo['barrio_aumentado'].str.replace(\"abasto\",\"balvanera\")\n",
    "df_completo['barrio_aumentado'] = df_completo['barrio_aumentado'].str.replace(\"congreso\",\"balvanera\")\n",
    "df_completo['barrio_aumentado'] = df_completo['barrio_aumentado'].str.replace(\"once\",\"balvanera\")\n",
    "df_completo['barrio_aumentado'] = df_completo['barrio_aumentado'].str.replace(\"parque centenario\",\"caballito\")\n",
    "df_completo['barrio_aumentado'] = df_completo['barrio_aumentado'].str.replace(\"san nicolÃ¡s\",\"san nicolas\")\n",
    "df_completo['barrio_aumentado'] = df_completo['barrio_aumentado'].str.replace(\"villa gral. mitre\",\"villa gral mitre\")\n",
    "df_completo['barrio_aumentado'] = df_completo['barrio_aumentado'].str.replace('san nicolás',\"sannicolas\")\n",
    "df_completo['barrio_aumentado'] = df_completo['barrio_aumentado'].str.replace('nuñez',\"nunez\")\n",
    "df_completo['barrio_aumentado'] = df_completo['barrio_aumentado'].str.replace('sannicolás','sannicolas')\n",
    "df_completo['barrio_aumentado'] = df_completo['barrio_aumentado'].str.replace('constitución','constitucion')\n",
    "\n",
    "df_completo[\"barrio_aumentado\"] = df_completo[\"barrio_aumentado\"].str.replace(\" \", \"\")\n",
    "\n",
    "\n"
   ]
  },
  {
   "cell_type": "code",
   "execution_count": 27,
   "metadata": {},
   "outputs": [],
   "source": [
    "df_completo.drop(['start_date', 'end_date', 'created_on','l3','lat','lon'], axis = 1, inplace = True)\n",
    "df_completo.rename({'barrio_aumentado': 'barrio'}, axis=1, inplace=True)"
   ]
  },
  {
   "cell_type": "code",
   "execution_count": 28,
   "metadata": {},
   "outputs": [
    {
     "data": {
      "text/plain": [
       "(34, 10)"
      ]
     },
     "execution_count": 28,
     "metadata": {},
     "output_type": "execute_result"
    }
   ],
   "source": [
    "wrong_surface_rows = df_completo[df_completo['surface_total']<df_completo['surface_covered']]\n",
    "wrong_surface_rows.shape"
   ]
  },
  {
   "cell_type": "code",
   "execution_count": 29,
   "metadata": {},
   "outputs": [],
   "source": [
    "df_completo.at[wrong_surface_rows.index, 'surface_total'] = wrong_surface_rows.surface_covered\n",
    "df_completo.at[wrong_surface_rows.index, 'surface_covered'] = wrong_surface_rows.surface_total"
   ]
  },
  {
   "cell_type": "code",
   "execution_count": 30,
   "metadata": {},
   "outputs": [
    {
     "data": {
      "text/plain": [
       "(271, 10)"
      ]
     },
     "execution_count": 30,
     "metadata": {},
     "output_type": "execute_result"
    }
   ],
   "source": [
    "wrong_bathrooms_rows = df_completo[df_completo['bathrooms'].isnull()]\n",
    "wrong_bathrooms_rows.shape"
   ]
  },
  {
   "cell_type": "code",
   "execution_count": 31,
   "metadata": {},
   "outputs": [],
   "source": [
    "df_completo.at[wrong_bathrooms_rows.index, 'bathrooms'] = 1"
   ]
  },
  {
   "cell_type": "code",
   "execution_count": 32,
   "metadata": {},
   "outputs": [],
   "source": [
    "wrong_room_rows = df_completo[df_completo['bathrooms'] > 8]\n",
    "df_completo.at[wrong_room_rows.index, 'bathrooms'] = np.NaN"
   ]
  },
  {
   "cell_type": "code",
   "execution_count": 33,
   "metadata": {},
   "outputs": [],
   "source": [
    "wrong_sup_total_rows = df_completo[df_completo['surface_total'] >  900]\n",
    "df_completo.at[wrong_sup_total_rows.index, 'surface_total'] = np.NaN"
   ]
  },
  {
   "cell_type": "code",
   "execution_count": 34,
   "metadata": {},
   "outputs": [
    {
     "data": {
      "text/plain": [
       "count    7608.000000\n",
       "mean       87.379995\n",
       "std        75.260963\n",
       "min        12.000000\n",
       "25%        44.000000\n",
       "50%        63.000000\n",
       "75%        99.000000\n",
       "max       750.000000\n",
       "Name: surface_total, dtype: float64"
      ]
     },
     "execution_count": 34,
     "metadata": {},
     "output_type": "execute_result"
    }
   ],
   "source": [
    "df_completo['surface_total'].describe()"
   ]
  },
  {
   "cell_type": "code",
   "execution_count": 35,
   "metadata": {},
   "outputs": [
    {
     "data": {
      "text/plain": [
       "<matplotlib.axes._subplots.AxesSubplot at 0x7f7a55248e80>"
      ]
     },
     "execution_count": 35,
     "metadata": {},
     "output_type": "execute_result"
    },
    {
     "data": {
      "image/png": "[encoded data removed]",
      "text/plain": [
       "<Figure size 432x288 with 1 Axes>"
      ]
     },
     "metadata": {},
     "output_type": "display_data"
    }
   ],
   "source": [
    "sns.boxplot(y = df_completo['surface_total'])"
   ]
  },
  {
   "cell_type": "code",
   "execution_count": 36,
   "metadata": {},
   "outputs": [
    {
     "data": {
      "text/plain": [
       "count    8267.000000\n",
       "mean       78.413572\n",
       "std        67.740254\n",
       "min        10.000000\n",
       "25%        40.000000\n",
       "50%        57.000000\n",
       "75%        87.000000\n",
       "max       750.000000\n",
       "Name: surface_covered, dtype: float64"
      ]
     },
     "execution_count": 36,
     "metadata": {},
     "output_type": "execute_result"
    }
   ],
   "source": [
    "df_completo['surface_covered'].describe()"
   ]
  },
  {
   "cell_type": "code",
   "execution_count": 37,
   "metadata": {},
   "outputs": [],
   "source": [
    "wrong_sup_cov_rows = df_completo[df_completo['surface_covered'] < 15]\n",
    "df_completo.at[wrong_sup_cov_rows.index, 'surface_covered'] = np.NaN"
   ]
  },
  {
   "cell_type": "code",
   "execution_count": 38,
   "metadata": {},
   "outputs": [
    {
     "data": {
      "text/plain": [
       "Index(['id', 'rooms', 'bedrooms', 'bathrooms', 'surface_total',\n",
       "       'surface_covered', 'price', 'title', 'description', 'barrio'],\n",
       "      dtype='object')"
      ]
     },
     "execution_count": 38,
     "metadata": {},
     "output_type": "execute_result"
    }
   ],
   "source": [
    "df_completo.columns"
   ]
  },
  {
   "cell_type": "code",
   "execution_count": 39,
   "metadata": {},
   "outputs": [],
   "source": [
    "## Se imputa usando vecinos cercanos\n",
    "import numpy as np\n",
    "from sklearn.impute import KNNImputer\n",
    "\n",
    "df_columns = df_completo[['rooms', 'bedrooms', 'bathrooms', 'surface_total', 'surface_covered']]\n",
    "\n",
    "imputer = KNNImputer(n_neighbors=4)\n",
    "df_columns = imputer.fit_transform(df_columns)\n",
    "df_completo['rooms_imp'] = df_columns[:,0].tolist()\n",
    "df_completo['bedrooms_imp'] = df_columns[:,1].tolist()\n",
    "df_completo['bathrooms_imp'] = df_columns[:,2].tolist()\n",
    "df_completo['surface_total_imp'] = df_columns[:,3].tolist()\n",
    "df_completo['surface_covered_imp'] = df_columns[:,4].tolist()"
   ]
  },
  {
   "cell_type": "code",
   "execution_count": 40,
   "metadata": {},
   "outputs": [
    {
     "data": {
      "text/plain": [
       "<matplotlib.axes._subplots.AxesSubplot at 0x7f7a54f5e2b0>"
      ]
     },
     "execution_count": 40,
     "metadata": {},
     "output_type": "execute_result"
    },
    {
     "data": {
      "image/png": "[encoded data removed]",
      "text/plain": [
       "<Figure size 576x360 with 2 Axes>"
      ]
     },
     "metadata": {},
     "output_type": "display_data"
    }
   ],
   "source": [
    "plt.subplots(figsize=(8, 5))\n",
    "plt.subplot(1, 2, 1)\n",
    "sns.boxplot(y = df_completo['surface_covered'])\n",
    "\n",
    "plt.subplot(1, 2, 2)\n",
    "sns.boxplot(y = df_completo['surface_covered_imp'])"
   ]
  },
  {
   "cell_type": "code",
   "execution_count": 41,
   "metadata": {},
   "outputs": [
    {
     "data": {
      "text/plain": [
       "<matplotlib.axes._subplots.AxesSubplot at 0x7f7a552c6fd0>"
      ]
     },
     "execution_count": 41,
     "metadata": {},
     "output_type": "execute_result"
    },
    {
     "data": {
      "image/png": "[encoded data removed]",
      "text/plain": [
       "<Figure size 576x360 with 2 Axes>"
      ]
     },
     "metadata": {},
     "output_type": "display_data"
    }
   ],
   "source": [
    "plt.subplots(figsize=(8, 5))\n",
    "plt.subplot(1, 2, 1)\n",
    "sns.boxplot(y = df_completo['surface_total'])\n",
    "\n",
    "plt.subplot(1, 2, 2)\n",
    "sns.boxplot(y = df_completo['surface_total_imp'])"
   ]
  },
  {
   "cell_type": "code",
   "execution_count": 42,
   "metadata": {},
   "outputs": [],
   "source": [
    "for var in ['surface_covered_imp']:\n",
    "    scaled_var = \"scaled_surface_covered\"\n",
    "    df_completo[scaled_var] = np.log1p(df_completo[var])"
   ]
  },
  {
   "cell_type": "code",
   "execution_count": 43,
   "metadata": {},
   "outputs": [],
   "source": [
    "df_completo.drop(['bathrooms_imp','bedrooms_imp','rooms_imp','rooms', 'bedrooms', 'surface_total','surface_covered','surface_total_imp','surface_covered_imp'], axis = 1, inplace = True)"
   ]
  },
  {
   "cell_type": "code",
   "execution_count": 44,
   "metadata": {},
   "outputs": [
    {
     "name": "stdout",
     "output_type": "stream",
     "text": [
      "Datos faltantes\n",
      "id                            0\n",
      "bathrooms                     0\n",
      "price                     12308\n",
      "title                         0\n",
      "description                   0\n",
      "barrio                        0\n",
      "scaled_surface_covered        0\n",
      "dtype: int64\n"
     ]
    },
    {
     "data": {
      "text/plain": [
       "<matplotlib.axes._subplots.AxesSubplot at 0x7f7a54f1de50>"
      ]
     },
     "execution_count": 44,
     "metadata": {},
     "output_type": "execute_result"
    },
    {
     "data": {
      "image/png": "[encoded data removed]",
      "text/plain": [
       "<Figure size 720x360 with 3 Axes>"
      ]
     },
     "metadata": {},
     "output_type": "display_data"
    }
   ],
   "source": [
    "print(\"Datos faltantes\")\n",
    "print(df_completo.isnull().sum())\n",
    "plt.style.use('ggplot')\n",
    "msno.bar(df_completo, figsize=(10,5), color=\"dodgerblue\", fontsize=12)"
   ]
  },
  {
   "cell_type": "code",
   "execution_count": 45,
   "metadata": {},
   "outputs": [
    {
     "name": "stderr",
     "output_type": "stream",
     "text": [
      "[nltk_data] Downloading package stopwords to /home/cdsw/nltk_data...\n",
      "[nltk_data]   Package stopwords is already up-to-date!\n",
      "[nltk_data] Downloading package punkt to /home/cdsw/nltk_data...\n",
      "[nltk_data]   Package punkt is already up-to-date!\n"
     ]
    }
   ],
   "source": [
    "from nltk import word_tokenize\n",
    "import nltk\n",
    "nltk.download('stopwords')\n",
    "from nltk.corpus import stopwords\n",
    "nltk.download('punkt')\n",
    "stop_words = list(stopwords.words('spanish'))"
   ]
  },
  {
   "cell_type": "code",
   "execution_count": 46,
   "metadata": {},
   "outputs": [],
   "source": [
    "def limpiar_tokenizar(texto):\n",
    "    '''\n",
    "    Esta función limpia y tokeniza el texto en palabras individuales.\n",
    "    El orden en el que se va limpiando el texto no es arbitrario.\n",
    "    El listado de signos de puntuación se ha obtenido de: print(string.punctuation)\n",
    "    y re.escape(string.punctuation)\n",
    "    '''\n",
    "    \n",
    "    # Se convierte todo el texto a minúsculas\n",
    "    nuevo_texto = texto.lower()\n",
    "    # Eliminación de páginas web (palabras que empiezan por \"http\")\n",
    "    nuevo_texto = re.sub('http\\S+', ' ', nuevo_texto)\n",
    "    # Eliminación de signos de puntuación\n",
    "    regex = '[\\\\!\\\\\"\\\\#\\\\$\\\\%\\\\&\\\\\\'\\\\(\\\\)\\\\*\\\\+\\\\,\\\\-\\\\.\\\\/\\\\:\\\\;\\\\<\\\\=\\\\>\\\\?\\\\@\\\\[\\\\\\\\\\\\]\\\\^_\\\\`\\\\{\\\\|\\\\}\\\\~]'\n",
    "    nuevo_texto = re.sub(regex , ' ', nuevo_texto)\n",
    "    # Eliminación de números\n",
    "    nuevo_texto = re.sub(\"\\d+\", ' ', nuevo_texto)\n",
    "    # Eliminación de espacios en blanco múltiples\n",
    "    nuevo_texto = re.sub(\"\\\\s+\", ' ', nuevo_texto)\n",
    "    # Eliminación de saltos\n",
    "    nuevo_texto = re.sub(\"br\", ' ', nuevo_texto)\n",
    "    # Tokenización por palabras individuales\n",
    "    nuevo_texto = nuevo_texto.split(sep = ' ')\n",
    "    # Eliminación de tokens con una longitud < 2\n",
    "    nuevo_texto = [token for token in nuevo_texto if len(token) > 1]\n",
    "        \n",
    "    return(nuevo_texto)\n"
   ]
  },
  {
   "cell_type": "code",
   "execution_count": 47,
   "metadata": {},
   "outputs": [
    {
     "data": {
      "text/html": [
       "<div>\n",
       "<style scoped>\n",
       "    .dataframe tbody tr th:only-of-type {\n",
       "        vertical-align: middle;\n",
       "    }\n",
       "\n",
       "    .dataframe tbody tr th {\n",
       "        vertical-align: top;\n",
       "    }\n",
       "\n",
       "    .dataframe thead th {\n",
       "        text-align: right;\n",
       "    }\n",
       "</style>\n",
       "<table border=\"1\" class=\"dataframe\">\n",
       "  <thead>\n",
       "    <tr style=\"text-align: right;\">\n",
       "      <th></th>\n",
       "      <th>id</th>\n",
       "      <th>bathrooms</th>\n",
       "      <th>price</th>\n",
       "      <th>title</th>\n",
       "      <th>description</th>\n",
       "      <th>barrio</th>\n",
       "      <th>scaled_surface_covered</th>\n",
       "    </tr>\n",
       "  </thead>\n",
       "  <tbody>\n",
       "    <tr>\n",
       "      <th>0</th>\n",
       "      <td>44678</td>\n",
       "      <td>1.0</td>\n",
       "      <td>NaN</td>\n",
       "      <td>departamento - boedo</td>\n",
       "      <td>departamento 2 ambientes con piscina/terraza/s...</td>\n",
       "      <td>boedo</td>\n",
       "      <td>3.496508</td>\n",
       "    </tr>\n",
       "    <tr>\n",
       "      <th>1</th>\n",
       "      <td>44679</td>\n",
       "      <td>1.0</td>\n",
       "      <td>NaN</td>\n",
       "      <td>departamento - villa urquiza</td>\n",
       "      <td>ole. corredor silvia serrano cpi 3809&lt;br&gt;venta...</td>\n",
       "      <td>villaurquiza</td>\n",
       "      <td>3.828641</td>\n",
       "    </tr>\n",
       "    <tr>\n",
       "      <th>2</th>\n",
       "      <td>44680</td>\n",
       "      <td>2.0</td>\n",
       "      <td>NaN</td>\n",
       "      <td>departamento muy buen departamento en edificio...</td>\n",
       "      <td>excelente departamento en edificio de categorí...</td>\n",
       "      <td>nunez</td>\n",
       "      <td>4.127134</td>\n",
       "    </tr>\n",
       "  </tbody>\n",
       "</table>\n",
       "</div>"
      ],
      "text/plain": [
       "      id  bathrooms  price                                              title  \\\n",
       "0  44678        1.0    NaN                               departamento - boedo   \n",
       "1  44679        1.0    NaN                       departamento - villa urquiza   \n",
       "2  44680        2.0    NaN  departamento muy buen departamento en edificio...   \n",
       "\n",
       "                                         description        barrio  \\\n",
       "0  departamento 2 ambientes con piscina/terraza/s...         boedo   \n",
       "1  ole. corredor silvia serrano cpi 3809<br>venta...  villaurquiza   \n",
       "2  excelente departamento en edificio de categorí...         nunez   \n",
       "\n",
       "   scaled_surface_covered  \n",
       "0                3.496508  \n",
       "1                3.828641  \n",
       "2                4.127134  "
      ]
     },
     "execution_count": 47,
     "metadata": {},
     "output_type": "execute_result"
    }
   ],
   "source": [
    "df_filtered = df_completo.reset_index(drop = True)\n",
    "df_filtered.head(3)"
   ]
  },
  {
   "cell_type": "code",
   "execution_count": 48,
   "metadata": {},
   "outputs": [],
   "source": [
    "df_temp = pd.DataFrame()\n",
    "for i in range(0,df_filtered.shape[0]):\n",
    "    test = df_filtered['description'][i]\n",
    "    text1 = limpiar_tokenizar(texto=test)\n",
    "    salida = [x for x in text1 if x not in stop_words]\n",
    "    if any(word in salida for word in ['amoblado']):\n",
    "        amoblado = \"SI\"\n",
    "    else:\n",
    "        amoblado = \"NO\"\n",
    "        \n",
    "    if any(word in salida for word in ['patio']):\n",
    "        patio = \"SI\"\n",
    "    else:\n",
    "        patio = \"NO\"\n",
    "        \n",
    "    if any(word in salida for word in ['terraza']):\n",
    "        terraza = \"SI\"\n",
    "    else:\n",
    "        terraza = \"NO\"\n",
    "    if any(word in salida for word in ['jardin']):\n",
    "        jardin = \"SI\"\n",
    "    else:\n",
    "        jardin = \"NO\"    \n",
    "    data = {'texto':test, 'texto_tokenizado':[salida],'amoblado': amoblado,'patio':patio,'terraza':terraza ,'jardin':jardin}\n",
    "    new_row = pd.DataFrame(data)\n",
    "    df_temp = df_temp.append(new_row)"
   ]
  },
  {
   "cell_type": "code",
   "execution_count": 49,
   "metadata": {},
   "outputs": [],
   "source": [
    "df_temp.reset_index(inplace = True)"
   ]
  },
  {
   "cell_type": "code",
   "execution_count": 50,
   "metadata": {},
   "outputs": [],
   "source": [
    "result = pd.concat([df_filtered, df_temp['amoblado'], df_temp['jardin'], df_temp['patio'], df_temp['terraza']], axis=1)"
   ]
  },
  {
   "cell_type": "code",
   "execution_count": 51,
   "metadata": {},
   "outputs": [
    {
     "name": "stdout",
     "output_type": "stream",
     "text": [
      "(12308, 11)\n"
     ]
    },
    {
     "data": {
      "text/html": [
       "<div>\n",
       "<style scoped>\n",
       "    .dataframe tbody tr th:only-of-type {\n",
       "        vertical-align: middle;\n",
       "    }\n",
       "\n",
       "    .dataframe tbody tr th {\n",
       "        vertical-align: top;\n",
       "    }\n",
       "\n",
       "    .dataframe thead th {\n",
       "        text-align: right;\n",
       "    }\n",
       "</style>\n",
       "<table border=\"1\" class=\"dataframe\">\n",
       "  <thead>\n",
       "    <tr style=\"text-align: right;\">\n",
       "      <th></th>\n",
       "      <th>id</th>\n",
       "      <th>bathrooms</th>\n",
       "      <th>price</th>\n",
       "      <th>title</th>\n",
       "      <th>description</th>\n",
       "      <th>barrio</th>\n",
       "      <th>scaled_surface_covered</th>\n",
       "      <th>amoblado</th>\n",
       "      <th>jardin</th>\n",
       "      <th>patio</th>\n",
       "      <th>terraza</th>\n",
       "    </tr>\n",
       "  </thead>\n",
       "  <tbody>\n",
       "    <tr>\n",
       "      <th>12305</th>\n",
       "      <td>56983</td>\n",
       "      <td>1.0</td>\n",
       "      <td>NaN</td>\n",
       "      <td>departamento - paternal</td>\n",
       "      <td>descripción&lt;br&gt;semi piso 4 piso al frente&lt;br&gt;3...</td>\n",
       "      <td>paternal</td>\n",
       "      <td>4.276666</td>\n",
       "      <td>NO</td>\n",
       "      <td>NO</td>\n",
       "      <td>NO</td>\n",
       "      <td>SI</td>\n",
       "    </tr>\n",
       "    <tr>\n",
       "      <th>12306</th>\n",
       "      <td>56984</td>\n",
       "      <td>1.0</td>\n",
       "      <td>NaN</td>\n",
       "      <td>departamento - palermo</td>\n",
       "      <td>&lt;br&gt;departamento de 2 ambientes en inmejorable...</td>\n",
       "      <td>recoleta</td>\n",
       "      <td>3.891820</td>\n",
       "      <td>NO</td>\n",
       "      <td>NO</td>\n",
       "      <td>NO</td>\n",
       "      <td>NO</td>\n",
       "    </tr>\n",
       "    <tr>\n",
       "      <th>12307</th>\n",
       "      <td>56985</td>\n",
       "      <td>1.0</td>\n",
       "      <td>NaN</td>\n",
       "      <td>belgrano - venta  2 amb - full amenities -  a ...</td>\n",
       "      <td>* ante cualquier consulta comunicarse al 11 &lt;b...</td>\n",
       "      <td>belgrano</td>\n",
       "      <td>3.871201</td>\n",
       "      <td>SI</td>\n",
       "      <td>NO</td>\n",
       "      <td>NO</td>\n",
       "      <td>NO</td>\n",
       "    </tr>\n",
       "  </tbody>\n",
       "</table>\n",
       "</div>"
      ],
      "text/plain": [
       "          id  bathrooms  price  \\\n",
       "12305  56983        1.0    NaN   \n",
       "12306  56984        1.0    NaN   \n",
       "12307  56985        1.0    NaN   \n",
       "\n",
       "                                                   title  \\\n",
       "12305                            departamento - paternal   \n",
       "12306                             departamento - palermo   \n",
       "12307  belgrano - venta  2 amb - full amenities -  a ...   \n",
       "\n",
       "                                             description    barrio  \\\n",
       "12305  descripción<br>semi piso 4 piso al frente<br>3...  paternal   \n",
       "12306  <br>departamento de 2 ambientes en inmejorable...  recoleta   \n",
       "12307  * ante cualquier consulta comunicarse al 11 <b...  belgrano   \n",
       "\n",
       "       scaled_surface_covered amoblado jardin patio terraza  \n",
       "12305                4.276666       NO     NO    NO      SI  \n",
       "12306                3.891820       NO     NO    NO      NO  \n",
       "12307                3.871201       SI     NO    NO      NO  "
      ]
     },
     "execution_count": 51,
     "metadata": {},
     "output_type": "execute_result"
    }
   ],
   "source": [
    "print(result.shape)\n",
    "result.tail(3)"
   ]
  },
  {
   "cell_type": "code",
   "execution_count": 52,
   "metadata": {},
   "outputs": [],
   "source": [
    "df_temp = pd.DataFrame()\n",
    "for i in range(0,result.shape[0]):\n",
    "    test = result['description'][i]\n",
    "    text1 = limpiar_tokenizar(texto=test)\n",
    "    salida = [x for x in text1 if x not in stop_words]\n",
    "    if any(word in salida for word in ['acondicionado']):\n",
    "        acond = \"SI\"\n",
    "    else:\n",
    "        acond = \"NO\"\n",
    "        \n",
    "    if any(word in salida for word in ['mascotas','mascota']):\n",
    "        mascota = \"SI\"\n",
    "    else:\n",
    "        mascota = \"NO\"\n",
    "        \n",
    "    if any(word in salida for word in ['balcon']):\n",
    "        balcon = \"SI\"\n",
    "    else:\n",
    "        balcon = \"NO\"\n",
    "    \n",
    "    data = {'texto':test, 'texto_tokenizado':[salida],'aire_acond': acond,'mascota':mascota,'balcon':balcon}\n",
    "    new_row = pd.DataFrame(data)\n",
    "    df_temp = df_temp.append(new_row)"
   ]
  },
  {
   "cell_type": "code",
   "execution_count": 53,
   "metadata": {},
   "outputs": [],
   "source": [
    "df_temp.reset_index(inplace = True)\n",
    "result_c2 = pd.concat([result, df_temp['aire_acond'], df_temp['mascota'], df_temp['balcon']], axis=1)"
   ]
  },
  {
   "cell_type": "code",
   "execution_count": 54,
   "metadata": {},
   "outputs": [
    {
     "name": "stdout",
     "output_type": "stream",
     "text": [
      "(12308, 14)\n"
     ]
    },
    {
     "data": {
      "text/html": [
       "<div>\n",
       "<style scoped>\n",
       "    .dataframe tbody tr th:only-of-type {\n",
       "        vertical-align: middle;\n",
       "    }\n",
       "\n",
       "    .dataframe tbody tr th {\n",
       "        vertical-align: top;\n",
       "    }\n",
       "\n",
       "    .dataframe thead th {\n",
       "        text-align: right;\n",
       "    }\n",
       "</style>\n",
       "<table border=\"1\" class=\"dataframe\">\n",
       "  <thead>\n",
       "    <tr style=\"text-align: right;\">\n",
       "      <th></th>\n",
       "      <th>id</th>\n",
       "      <th>bathrooms</th>\n",
       "      <th>price</th>\n",
       "      <th>title</th>\n",
       "      <th>description</th>\n",
       "      <th>barrio</th>\n",
       "      <th>scaled_surface_covered</th>\n",
       "      <th>amoblado</th>\n",
       "      <th>jardin</th>\n",
       "      <th>patio</th>\n",
       "      <th>terraza</th>\n",
       "      <th>aire_acond</th>\n",
       "      <th>mascota</th>\n",
       "      <th>balcon</th>\n",
       "    </tr>\n",
       "  </thead>\n",
       "  <tbody>\n",
       "    <tr>\n",
       "      <th>12305</th>\n",
       "      <td>56983</td>\n",
       "      <td>1.0</td>\n",
       "      <td>NaN</td>\n",
       "      <td>departamento - paternal</td>\n",
       "      <td>descripción&lt;br&gt;semi piso 4 piso al frente&lt;br&gt;3...</td>\n",
       "      <td>paternal</td>\n",
       "      <td>4.276666</td>\n",
       "      <td>NO</td>\n",
       "      <td>NO</td>\n",
       "      <td>NO</td>\n",
       "      <td>SI</td>\n",
       "      <td>SI</td>\n",
       "      <td>NO</td>\n",
       "      <td>SI</td>\n",
       "    </tr>\n",
       "    <tr>\n",
       "      <th>12306</th>\n",
       "      <td>56984</td>\n",
       "      <td>1.0</td>\n",
       "      <td>NaN</td>\n",
       "      <td>departamento - palermo</td>\n",
       "      <td>&lt;br&gt;departamento de 2 ambientes en inmejorable...</td>\n",
       "      <td>recoleta</td>\n",
       "      <td>3.891820</td>\n",
       "      <td>NO</td>\n",
       "      <td>NO</td>\n",
       "      <td>NO</td>\n",
       "      <td>NO</td>\n",
       "      <td>NO</td>\n",
       "      <td>NO</td>\n",
       "      <td>NO</td>\n",
       "    </tr>\n",
       "    <tr>\n",
       "      <th>12307</th>\n",
       "      <td>56985</td>\n",
       "      <td>1.0</td>\n",
       "      <td>NaN</td>\n",
       "      <td>belgrano - venta  2 amb - full amenities -  a ...</td>\n",
       "      <td>* ante cualquier consulta comunicarse al 11 &lt;b...</td>\n",
       "      <td>belgrano</td>\n",
       "      <td>3.871201</td>\n",
       "      <td>SI</td>\n",
       "      <td>NO</td>\n",
       "      <td>NO</td>\n",
       "      <td>NO</td>\n",
       "      <td>NO</td>\n",
       "      <td>NO</td>\n",
       "      <td>NO</td>\n",
       "    </tr>\n",
       "  </tbody>\n",
       "</table>\n",
       "</div>"
      ],
      "text/plain": [
       "          id  bathrooms  price  \\\n",
       "12305  56983        1.0    NaN   \n",
       "12306  56984        1.0    NaN   \n",
       "12307  56985        1.0    NaN   \n",
       "\n",
       "                                                   title  \\\n",
       "12305                            departamento - paternal   \n",
       "12306                             departamento - palermo   \n",
       "12307  belgrano - venta  2 amb - full amenities -  a ...   \n",
       "\n",
       "                                             description    barrio  \\\n",
       "12305  descripción<br>semi piso 4 piso al frente<br>3...  paternal   \n",
       "12306  <br>departamento de 2 ambientes en inmejorable...  recoleta   \n",
       "12307  * ante cualquier consulta comunicarse al 11 <b...  belgrano   \n",
       "\n",
       "       scaled_surface_covered amoblado jardin patio terraza aire_acond  \\\n",
       "12305                4.276666       NO     NO    NO      SI         SI   \n",
       "12306                3.891820       NO     NO    NO      NO         NO   \n",
       "12307                3.871201       SI     NO    NO      NO         NO   \n",
       "\n",
       "      mascota balcon  \n",
       "12305      NO     SI  \n",
       "12306      NO     NO  \n",
       "12307      NO     NO  "
      ]
     },
     "execution_count": 54,
     "metadata": {},
     "output_type": "execute_result"
    }
   ],
   "source": [
    "print(result_c2.shape)\n",
    "result_c2.tail(3)"
   ]
  },
  {
   "cell_type": "code",
   "execution_count": 55,
   "metadata": {},
   "outputs": [],
   "source": [
    "df_temp = pd.DataFrame()\n",
    "for i in range(0,result.shape[0]):\n",
    "    test = result['description'][i]\n",
    "    text1 = limpiar_tokenizar(texto=test)\n",
    "    salida = [x for x in text1 if x not in stop_words]\n",
    "    \n",
    "    if any(word in salida for word in ['pileta','piscina']):\n",
    "        pileta = \"SI\"\n",
    "    else:\n",
    "        pileta = \"NO\"\n",
    "    if any(word in salida for word in ['cochera','cocheras']):\n",
    "        cochera = \"SI\"\n",
    "    else:\n",
    "        cochera = \"NO\"\n",
    "    if any(word in salida for word in ['laundry']):\n",
    "        laundry = \"SI\"\n",
    "    else:\n",
    "        laundry = \"NO\"\n",
    "        \n",
    "    if any(word in salida for word in ['SUM','sum']):\n",
    "        summ = \"SI\"\n",
    "    else:\n",
    "        summ = \"NO\"\n",
    "    data = {'texto':test, 'texto_tokenizado':[salida],'pileta':pileta,'cochera':cochera,'laundry':laundry,'summ':summ}\n",
    "    new_row = pd.DataFrame(data)\n",
    "    df_temp = df_temp.append(new_row)"
   ]
  },
  {
   "cell_type": "code",
   "execution_count": 56,
   "metadata": {},
   "outputs": [],
   "source": [
    "df_temp.reset_index(inplace = True)\n",
    "result_c3 = pd.concat([result_c2, df_temp['pileta'], df_temp['cochera'], df_temp['laundry'], df_temp['summ']], axis=1)"
   ]
  },
  {
   "cell_type": "code",
   "execution_count": 57,
   "metadata": {},
   "outputs": [
    {
     "name": "stdout",
     "output_type": "stream",
     "text": [
      "(12308, 18)\n"
     ]
    },
    {
     "data": {
      "text/html": [
       "<div>\n",
       "<style scoped>\n",
       "    .dataframe tbody tr th:only-of-type {\n",
       "        vertical-align: middle;\n",
       "    }\n",
       "\n",
       "    .dataframe tbody tr th {\n",
       "        vertical-align: top;\n",
       "    }\n",
       "\n",
       "    .dataframe thead th {\n",
       "        text-align: right;\n",
       "    }\n",
       "</style>\n",
       "<table border=\"1\" class=\"dataframe\">\n",
       "  <thead>\n",
       "    <tr style=\"text-align: right;\">\n",
       "      <th></th>\n",
       "      <th>id</th>\n",
       "      <th>bathrooms</th>\n",
       "      <th>price</th>\n",
       "      <th>title</th>\n",
       "      <th>description</th>\n",
       "      <th>barrio</th>\n",
       "      <th>scaled_surface_covered</th>\n",
       "      <th>amoblado</th>\n",
       "      <th>jardin</th>\n",
       "      <th>patio</th>\n",
       "      <th>terraza</th>\n",
       "      <th>aire_acond</th>\n",
       "      <th>mascota</th>\n",
       "      <th>balcon</th>\n",
       "      <th>pileta</th>\n",
       "      <th>cochera</th>\n",
       "      <th>laundry</th>\n",
       "      <th>summ</th>\n",
       "    </tr>\n",
       "  </thead>\n",
       "  <tbody>\n",
       "    <tr>\n",
       "      <th>12305</th>\n",
       "      <td>56983</td>\n",
       "      <td>1.0</td>\n",
       "      <td>NaN</td>\n",
       "      <td>departamento - paternal</td>\n",
       "      <td>descripción&lt;br&gt;semi piso 4 piso al frente&lt;br&gt;3...</td>\n",
       "      <td>paternal</td>\n",
       "      <td>4.276666</td>\n",
       "      <td>NO</td>\n",
       "      <td>NO</td>\n",
       "      <td>NO</td>\n",
       "      <td>SI</td>\n",
       "      <td>SI</td>\n",
       "      <td>NO</td>\n",
       "      <td>SI</td>\n",
       "      <td>NO</td>\n",
       "      <td>SI</td>\n",
       "      <td>NO</td>\n",
       "      <td>NO</td>\n",
       "    </tr>\n",
       "    <tr>\n",
       "      <th>12306</th>\n",
       "      <td>56984</td>\n",
       "      <td>1.0</td>\n",
       "      <td>NaN</td>\n",
       "      <td>departamento - palermo</td>\n",
       "      <td>&lt;br&gt;departamento de 2 ambientes en inmejorable...</td>\n",
       "      <td>recoleta</td>\n",
       "      <td>3.891820</td>\n",
       "      <td>NO</td>\n",
       "      <td>NO</td>\n",
       "      <td>NO</td>\n",
       "      <td>NO</td>\n",
       "      <td>NO</td>\n",
       "      <td>NO</td>\n",
       "      <td>NO</td>\n",
       "      <td>NO</td>\n",
       "      <td>NO</td>\n",
       "      <td>NO</td>\n",
       "      <td>NO</td>\n",
       "    </tr>\n",
       "    <tr>\n",
       "      <th>12307</th>\n",
       "      <td>56985</td>\n",
       "      <td>1.0</td>\n",
       "      <td>NaN</td>\n",
       "      <td>belgrano - venta  2 amb - full amenities -  a ...</td>\n",
       "      <td>* ante cualquier consulta comunicarse al 11 &lt;b...</td>\n",
       "      <td>belgrano</td>\n",
       "      <td>3.871201</td>\n",
       "      <td>SI</td>\n",
       "      <td>NO</td>\n",
       "      <td>NO</td>\n",
       "      <td>NO</td>\n",
       "      <td>NO</td>\n",
       "      <td>NO</td>\n",
       "      <td>NO</td>\n",
       "      <td>SI</td>\n",
       "      <td>SI</td>\n",
       "      <td>NO</td>\n",
       "      <td>NO</td>\n",
       "    </tr>\n",
       "  </tbody>\n",
       "</table>\n",
       "</div>"
      ],
      "text/plain": [
       "          id  bathrooms  price  \\\n",
       "12305  56983        1.0    NaN   \n",
       "12306  56984        1.0    NaN   \n",
       "12307  56985        1.0    NaN   \n",
       "\n",
       "                                                   title  \\\n",
       "12305                            departamento - paternal   \n",
       "12306                             departamento - palermo   \n",
       "12307  belgrano - venta  2 amb - full amenities -  a ...   \n",
       "\n",
       "                                             description    barrio  \\\n",
       "12305  descripción<br>semi piso 4 piso al frente<br>3...  paternal   \n",
       "12306  <br>departamento de 2 ambientes en inmejorable...  recoleta   \n",
       "12307  * ante cualquier consulta comunicarse al 11 <b...  belgrano   \n",
       "\n",
       "       scaled_surface_covered amoblado jardin patio terraza aire_acond  \\\n",
       "12305                4.276666       NO     NO    NO      SI         SI   \n",
       "12306                3.891820       NO     NO    NO      NO         NO   \n",
       "12307                3.871201       SI     NO    NO      NO         NO   \n",
       "\n",
       "      mascota balcon pileta cochera laundry summ  \n",
       "12305      NO     SI     NO      SI      NO   NO  \n",
       "12306      NO     NO     NO      NO      NO   NO  \n",
       "12307      NO     NO     SI      SI      NO   NO  "
      ]
     },
     "execution_count": 57,
     "metadata": {},
     "output_type": "execute_result"
    }
   ],
   "source": [
    "print(result_c3.shape)\n",
    "result_c3.tail(3)"
   ]
  },
  {
   "cell_type": "code",
   "execution_count": 58,
   "metadata": {},
   "outputs": [],
   "source": [
    "df_temp = pd.DataFrame()\n",
    "for i in range(0,result.shape[0]):\n",
    "    test = result['description'][i]\n",
    "    text1 = limpiar_tokenizar(texto=test)\n",
    "    salida = [x for x in text1 if x not in stop_words]\n",
    "    \n",
    "    if any(word in salida for word in ['amenities']):\n",
    "        amenities = \"SI\"\n",
    "    else:\n",
    "        amenities = \"NO\"\n",
    "    if any(word in salida for word in ['estrenar']):\n",
    "        estrenar = \"SI\"\n",
    "    else:\n",
    "        estrenar = \"NO\"\n",
    "    if any(word in salida for word in ['ascensor']):\n",
    "        ascensor = \"SI\"\n",
    "    else:\n",
    "        ascensor = \"NO\"\n",
    "\n",
    "        \n",
    "    data = {'texto':test, 'texto_tokenizado':[salida],'amenities':amenities,'estrenar':estrenar,'ascensor':ascensor}\n",
    "    new_row = pd.DataFrame(data)\n",
    "    df_temp = df_temp.append(new_row)"
   ]
  },
  {
   "cell_type": "code",
   "execution_count": 59,
   "metadata": {},
   "outputs": [],
   "source": [
    "df_temp.reset_index(inplace = True)\n",
    "result_c4 = pd.concat([result_c3, df_temp['amenities'], df_temp['estrenar'], df_temp['ascensor']], axis=1)"
   ]
  },
  {
   "cell_type": "code",
   "execution_count": 60,
   "metadata": {},
   "outputs": [
    {
     "name": "stdout",
     "output_type": "stream",
     "text": [
      "(12308, 21)\n"
     ]
    },
    {
     "data": {
      "text/html": [
       "<div>\n",
       "<style scoped>\n",
       "    .dataframe tbody tr th:only-of-type {\n",
       "        vertical-align: middle;\n",
       "    }\n",
       "\n",
       "    .dataframe tbody tr th {\n",
       "        vertical-align: top;\n",
       "    }\n",
       "\n",
       "    .dataframe thead th {\n",
       "        text-align: right;\n",
       "    }\n",
       "</style>\n",
       "<table border=\"1\" class=\"dataframe\">\n",
       "  <thead>\n",
       "    <tr style=\"text-align: right;\">\n",
       "      <th></th>\n",
       "      <th>id</th>\n",
       "      <th>bathrooms</th>\n",
       "      <th>price</th>\n",
       "      <th>title</th>\n",
       "      <th>description</th>\n",
       "      <th>barrio</th>\n",
       "      <th>scaled_surface_covered</th>\n",
       "      <th>amoblado</th>\n",
       "      <th>jardin</th>\n",
       "      <th>patio</th>\n",
       "      <th>...</th>\n",
       "      <th>aire_acond</th>\n",
       "      <th>mascota</th>\n",
       "      <th>balcon</th>\n",
       "      <th>pileta</th>\n",
       "      <th>cochera</th>\n",
       "      <th>laundry</th>\n",
       "      <th>summ</th>\n",
       "      <th>amenities</th>\n",
       "      <th>estrenar</th>\n",
       "      <th>ascensor</th>\n",
       "    </tr>\n",
       "  </thead>\n",
       "  <tbody>\n",
       "    <tr>\n",
       "      <th>12305</th>\n",
       "      <td>56983</td>\n",
       "      <td>1.0</td>\n",
       "      <td>NaN</td>\n",
       "      <td>departamento - paternal</td>\n",
       "      <td>descripción&lt;br&gt;semi piso 4 piso al frente&lt;br&gt;3...</td>\n",
       "      <td>paternal</td>\n",
       "      <td>4.276666</td>\n",
       "      <td>NO</td>\n",
       "      <td>NO</td>\n",
       "      <td>NO</td>\n",
       "      <td>...</td>\n",
       "      <td>SI</td>\n",
       "      <td>NO</td>\n",
       "      <td>SI</td>\n",
       "      <td>NO</td>\n",
       "      <td>SI</td>\n",
       "      <td>NO</td>\n",
       "      <td>NO</td>\n",
       "      <td>NO</td>\n",
       "      <td>NO</td>\n",
       "      <td>NO</td>\n",
       "    </tr>\n",
       "    <tr>\n",
       "      <th>12306</th>\n",
       "      <td>56984</td>\n",
       "      <td>1.0</td>\n",
       "      <td>NaN</td>\n",
       "      <td>departamento - palermo</td>\n",
       "      <td>&lt;br&gt;departamento de 2 ambientes en inmejorable...</td>\n",
       "      <td>recoleta</td>\n",
       "      <td>3.891820</td>\n",
       "      <td>NO</td>\n",
       "      <td>NO</td>\n",
       "      <td>NO</td>\n",
       "      <td>...</td>\n",
       "      <td>NO</td>\n",
       "      <td>NO</td>\n",
       "      <td>NO</td>\n",
       "      <td>NO</td>\n",
       "      <td>NO</td>\n",
       "      <td>NO</td>\n",
       "      <td>NO</td>\n",
       "      <td>NO</td>\n",
       "      <td>NO</td>\n",
       "      <td>NO</td>\n",
       "    </tr>\n",
       "    <tr>\n",
       "      <th>12307</th>\n",
       "      <td>56985</td>\n",
       "      <td>1.0</td>\n",
       "      <td>NaN</td>\n",
       "      <td>belgrano - venta  2 amb - full amenities -  a ...</td>\n",
       "      <td>* ante cualquier consulta comunicarse al 11 &lt;b...</td>\n",
       "      <td>belgrano</td>\n",
       "      <td>3.871201</td>\n",
       "      <td>SI</td>\n",
       "      <td>NO</td>\n",
       "      <td>NO</td>\n",
       "      <td>...</td>\n",
       "      <td>NO</td>\n",
       "      <td>NO</td>\n",
       "      <td>NO</td>\n",
       "      <td>SI</td>\n",
       "      <td>SI</td>\n",
       "      <td>NO</td>\n",
       "      <td>NO</td>\n",
       "      <td>SI</td>\n",
       "      <td>NO</td>\n",
       "      <td>NO</td>\n",
       "    </tr>\n",
       "  </tbody>\n",
       "</table>\n",
       "<p>3 rows × 21 columns</p>\n",
       "</div>"
      ],
      "text/plain": [
       "          id  bathrooms  price  \\\n",
       "12305  56983        1.0    NaN   \n",
       "12306  56984        1.0    NaN   \n",
       "12307  56985        1.0    NaN   \n",
       "\n",
       "                                                   title  \\\n",
       "12305                            departamento - paternal   \n",
       "12306                             departamento - palermo   \n",
       "12307  belgrano - venta  2 amb - full amenities -  a ...   \n",
       "\n",
       "                                             description    barrio  \\\n",
       "12305  descripción<br>semi piso 4 piso al frente<br>3...  paternal   \n",
       "12306  <br>departamento de 2 ambientes en inmejorable...  recoleta   \n",
       "12307  * ante cualquier consulta comunicarse al 11 <b...  belgrano   \n",
       "\n",
       "       scaled_surface_covered amoblado jardin patio  ... aire_acond mascota  \\\n",
       "12305                4.276666       NO     NO    NO  ...         SI      NO   \n",
       "12306                3.891820       NO     NO    NO  ...         NO      NO   \n",
       "12307                3.871201       SI     NO    NO  ...         NO      NO   \n",
       "\n",
       "      balcon pileta cochera laundry summ amenities estrenar ascensor  \n",
       "12305     SI     NO      SI      NO   NO        NO       NO       NO  \n",
       "12306     NO     NO      NO      NO   NO        NO       NO       NO  \n",
       "12307     NO     SI      SI      NO   NO        SI       NO       NO  \n",
       "\n",
       "[3 rows x 21 columns]"
      ]
     },
     "execution_count": 60,
     "metadata": {},
     "output_type": "execute_result"
    }
   ],
   "source": [
    "print(result_c4.shape)\n",
    "result_c4.tail(3)"
   ]
  },
  {
   "cell_type": "code",
   "execution_count": 61,
   "metadata": {},
   "outputs": [],
   "source": [
    "df_temp = pd.DataFrame()\n",
    "for i in range(0,result.shape[0]):\n",
    "    test = result['description'][i]\n",
    "    text1 = limpiar_tokenizar(texto=test)\n",
    "    salida = [x for x in text1 if x not in stop_words]\n",
    "    \n",
    "    if any(word in salida for word in ['contrafrente']):\n",
    "        c_frente = \"SI\"\n",
    "    else:\n",
    "        c_frente = \"NO\"\n",
    "    if any(word in salida for word in ['frente']):\n",
    "        frente = \"SI\"\n",
    "    else:\n",
    "        frente = \"NO\"\n",
    "    if any(word in salida for word in ['luminoso','luminosa']):\n",
    "        luminoso = \"SI\"\n",
    "    else:\n",
    "        luminoso = \"NO\"\n",
    "\n",
    "        \n",
    "    data = {'texto':test, 'texto_tokenizado':[salida],'contrafrente':c_frente,'frente':frente,'luminoso':luminoso}\n",
    "    new_row = pd.DataFrame(data)\n",
    "    df_temp = df_temp.append(new_row)"
   ]
  },
  {
   "cell_type": "code",
   "execution_count": 62,
   "metadata": {},
   "outputs": [],
   "source": [
    "df_temp.reset_index(inplace = True)\n",
    "result_c5 = pd.concat([result_c4, df_temp['contrafrente'], df_temp['frente'], df_temp['luminoso']], axis=1)"
   ]
  },
  {
   "cell_type": "code",
   "execution_count": 64,
   "metadata": {},
   "outputs": [
    {
     "name": "stdout",
     "output_type": "stream",
     "text": [
      "(12308, 24)\n"
     ]
    },
    {
     "data": {
      "text/html": [
       "<div>\n",
       "<style scoped>\n",
       "    .dataframe tbody tr th:only-of-type {\n",
       "        vertical-align: middle;\n",
       "    }\n",
       "\n",
       "    .dataframe tbody tr th {\n",
       "        vertical-align: top;\n",
       "    }\n",
       "\n",
       "    .dataframe thead th {\n",
       "        text-align: right;\n",
       "    }\n",
       "</style>\n",
       "<table border=\"1\" class=\"dataframe\">\n",
       "  <thead>\n",
       "    <tr style=\"text-align: right;\">\n",
       "      <th></th>\n",
       "      <th>id</th>\n",
       "      <th>bathrooms</th>\n",
       "      <th>price</th>\n",
       "      <th>title</th>\n",
       "      <th>description</th>\n",
       "      <th>barrio</th>\n",
       "      <th>scaled_surface_covered</th>\n",
       "      <th>amoblado</th>\n",
       "      <th>jardin</th>\n",
       "      <th>patio</th>\n",
       "      <th>...</th>\n",
       "      <th>pileta</th>\n",
       "      <th>cochera</th>\n",
       "      <th>laundry</th>\n",
       "      <th>summ</th>\n",
       "      <th>amenities</th>\n",
       "      <th>estrenar</th>\n",
       "      <th>ascensor</th>\n",
       "      <th>contrafrente</th>\n",
       "      <th>frente</th>\n",
       "      <th>luminoso</th>\n",
       "    </tr>\n",
       "  </thead>\n",
       "  <tbody>\n",
       "    <tr>\n",
       "      <th>12305</th>\n",
       "      <td>56983</td>\n",
       "      <td>1.0</td>\n",
       "      <td>NaN</td>\n",
       "      <td>departamento - paternal</td>\n",
       "      <td>descripción&lt;br&gt;semi piso 4 piso al frente&lt;br&gt;3...</td>\n",
       "      <td>paternal</td>\n",
       "      <td>4.276666</td>\n",
       "      <td>NO</td>\n",
       "      <td>NO</td>\n",
       "      <td>NO</td>\n",
       "      <td>...</td>\n",
       "      <td>NO</td>\n",
       "      <td>SI</td>\n",
       "      <td>NO</td>\n",
       "      <td>NO</td>\n",
       "      <td>NO</td>\n",
       "      <td>NO</td>\n",
       "      <td>NO</td>\n",
       "      <td>NO</td>\n",
       "      <td>SI</td>\n",
       "      <td>NO</td>\n",
       "    </tr>\n",
       "    <tr>\n",
       "      <th>12306</th>\n",
       "      <td>56984</td>\n",
       "      <td>1.0</td>\n",
       "      <td>NaN</td>\n",
       "      <td>departamento - palermo</td>\n",
       "      <td>&lt;br&gt;departamento de 2 ambientes en inmejorable...</td>\n",
       "      <td>recoleta</td>\n",
       "      <td>3.891820</td>\n",
       "      <td>NO</td>\n",
       "      <td>NO</td>\n",
       "      <td>NO</td>\n",
       "      <td>...</td>\n",
       "      <td>NO</td>\n",
       "      <td>NO</td>\n",
       "      <td>NO</td>\n",
       "      <td>NO</td>\n",
       "      <td>NO</td>\n",
       "      <td>NO</td>\n",
       "      <td>NO</td>\n",
       "      <td>NO</td>\n",
       "      <td>NO</td>\n",
       "      <td>NO</td>\n",
       "    </tr>\n",
       "    <tr>\n",
       "      <th>12307</th>\n",
       "      <td>56985</td>\n",
       "      <td>1.0</td>\n",
       "      <td>NaN</td>\n",
       "      <td>belgrano - venta  2 amb - full amenities -  a ...</td>\n",
       "      <td>* ante cualquier consulta comunicarse al 11 &lt;b...</td>\n",
       "      <td>belgrano</td>\n",
       "      <td>3.871201</td>\n",
       "      <td>SI</td>\n",
       "      <td>NO</td>\n",
       "      <td>NO</td>\n",
       "      <td>...</td>\n",
       "      <td>SI</td>\n",
       "      <td>SI</td>\n",
       "      <td>NO</td>\n",
       "      <td>NO</td>\n",
       "      <td>SI</td>\n",
       "      <td>NO</td>\n",
       "      <td>NO</td>\n",
       "      <td>NO</td>\n",
       "      <td>NO</td>\n",
       "      <td>NO</td>\n",
       "    </tr>\n",
       "  </tbody>\n",
       "</table>\n",
       "<p>3 rows × 24 columns</p>\n",
       "</div>"
      ],
      "text/plain": [
       "          id  bathrooms  price  \\\n",
       "12305  56983        1.0    NaN   \n",
       "12306  56984        1.0    NaN   \n",
       "12307  56985        1.0    NaN   \n",
       "\n",
       "                                                   title  \\\n",
       "12305                            departamento - paternal   \n",
       "12306                             departamento - palermo   \n",
       "12307  belgrano - venta  2 amb - full amenities -  a ...   \n",
       "\n",
       "                                             description    barrio  \\\n",
       "12305  descripción<br>semi piso 4 piso al frente<br>3...  paternal   \n",
       "12306  <br>departamento de 2 ambientes en inmejorable...  recoleta   \n",
       "12307  * ante cualquier consulta comunicarse al 11 <b...  belgrano   \n",
       "\n",
       "       scaled_surface_covered amoblado jardin patio  ... pileta cochera  \\\n",
       "12305                4.276666       NO     NO    NO  ...     NO      SI   \n",
       "12306                3.891820       NO     NO    NO  ...     NO      NO   \n",
       "12307                3.871201       SI     NO    NO  ...     SI      SI   \n",
       "\n",
       "      laundry summ amenities estrenar ascensor contrafrente frente luminoso  \n",
       "12305      NO   NO        NO       NO       NO           NO     SI       NO  \n",
       "12306      NO   NO        NO       NO       NO           NO     NO       NO  \n",
       "12307      NO   NO        SI       NO       NO           NO     NO       NO  \n",
       "\n",
       "[3 rows x 24 columns]"
      ]
     },
     "execution_count": 64,
     "metadata": {},
     "output_type": "execute_result"
    }
   ],
   "source": [
    "print(result_c5.shape)\n",
    "result_c5.tail(3)"
   ]
  },
  {
   "cell_type": "code",
   "execution_count": 65,
   "metadata": {},
   "outputs": [],
   "source": [
    "df_temp = pd.DataFrame()\n",
    "for i in range(0,result.shape[0]):\n",
    "    test = result['description'][i]\n",
    "    text1 = limpiar_tokenizar(texto=test)\n",
    "    salida = [x for x in text1 if x not in stop_words]\n",
    "    \n",
    "    if any(word in salida for word in ['ph']):\n",
    "        ph = \"SI\"\n",
    "    else:\n",
    "        ph = \"NO\"\n",
    "    if any(word in salida for word in ['duplex']):\n",
    "        duplex = \"SI\"\n",
    "    else:\n",
    "        duplex = \"NO\"\n",
    "    if any(word in salida for word in ['triplex']):\n",
    "        triplex = \"SI\"\n",
    "    else:\n",
    "        triplex = \"NO\"\n",
    "    if any(word in salida for word in ['casa','casas']):\n",
    "        casa = \"SI\"\n",
    "    else:\n",
    "        casa = \"NO\"\n",
    "\n",
    "        \n",
    "    data = {'texto':test, 'texto_tokenizado':[salida],'ph':ph,'duplex':duplex,'triplex':triplex,'casa':casa}\n",
    "    new_row = pd.DataFrame(data)\n",
    "    df_temp = df_temp.append(new_row)"
   ]
  },
  {
   "cell_type": "code",
   "execution_count": 66,
   "metadata": {},
   "outputs": [],
   "source": [
    "df_temp.reset_index(inplace = True)\n",
    "result_c6 = pd.concat([result_c5, df_temp['ph'], df_temp['duplex'], df_temp['triplex'], df_temp['casa']], axis=1)"
   ]
  },
  {
   "cell_type": "code",
   "execution_count": 67,
   "metadata": {},
   "outputs": [
    {
     "name": "stdout",
     "output_type": "stream",
     "text": [
      "(12308, 28)\n"
     ]
    },
    {
     "data": {
      "text/html": [
       "<div>\n",
       "<style scoped>\n",
       "    .dataframe tbody tr th:only-of-type {\n",
       "        vertical-align: middle;\n",
       "    }\n",
       "\n",
       "    .dataframe tbody tr th {\n",
       "        vertical-align: top;\n",
       "    }\n",
       "\n",
       "    .dataframe thead th {\n",
       "        text-align: right;\n",
       "    }\n",
       "</style>\n",
       "<table border=\"1\" class=\"dataframe\">\n",
       "  <thead>\n",
       "    <tr style=\"text-align: right;\">\n",
       "      <th></th>\n",
       "      <th>id</th>\n",
       "      <th>bathrooms</th>\n",
       "      <th>price</th>\n",
       "      <th>title</th>\n",
       "      <th>description</th>\n",
       "      <th>barrio</th>\n",
       "      <th>scaled_surface_covered</th>\n",
       "      <th>amoblado</th>\n",
       "      <th>jardin</th>\n",
       "      <th>patio</th>\n",
       "      <th>...</th>\n",
       "      <th>amenities</th>\n",
       "      <th>estrenar</th>\n",
       "      <th>ascensor</th>\n",
       "      <th>contrafrente</th>\n",
       "      <th>frente</th>\n",
       "      <th>luminoso</th>\n",
       "      <th>ph</th>\n",
       "      <th>duplex</th>\n",
       "      <th>triplex</th>\n",
       "      <th>casa</th>\n",
       "    </tr>\n",
       "  </thead>\n",
       "  <tbody>\n",
       "    <tr>\n",
       "      <th>12305</th>\n",
       "      <td>56983</td>\n",
       "      <td>1.0</td>\n",
       "      <td>NaN</td>\n",
       "      <td>departamento - paternal</td>\n",
       "      <td>descripción&lt;br&gt;semi piso 4 piso al frente&lt;br&gt;3...</td>\n",
       "      <td>paternal</td>\n",
       "      <td>4.276666</td>\n",
       "      <td>NO</td>\n",
       "      <td>NO</td>\n",
       "      <td>NO</td>\n",
       "      <td>...</td>\n",
       "      <td>NO</td>\n",
       "      <td>NO</td>\n",
       "      <td>NO</td>\n",
       "      <td>NO</td>\n",
       "      <td>SI</td>\n",
       "      <td>NO</td>\n",
       "      <td>NO</td>\n",
       "      <td>NO</td>\n",
       "      <td>NO</td>\n",
       "      <td>NO</td>\n",
       "    </tr>\n",
       "    <tr>\n",
       "      <th>12306</th>\n",
       "      <td>56984</td>\n",
       "      <td>1.0</td>\n",
       "      <td>NaN</td>\n",
       "      <td>departamento - palermo</td>\n",
       "      <td>&lt;br&gt;departamento de 2 ambientes en inmejorable...</td>\n",
       "      <td>recoleta</td>\n",
       "      <td>3.891820</td>\n",
       "      <td>NO</td>\n",
       "      <td>NO</td>\n",
       "      <td>NO</td>\n",
       "      <td>...</td>\n",
       "      <td>NO</td>\n",
       "      <td>NO</td>\n",
       "      <td>NO</td>\n",
       "      <td>NO</td>\n",
       "      <td>NO</td>\n",
       "      <td>NO</td>\n",
       "      <td>NO</td>\n",
       "      <td>NO</td>\n",
       "      <td>NO</td>\n",
       "      <td>NO</td>\n",
       "    </tr>\n",
       "    <tr>\n",
       "      <th>12307</th>\n",
       "      <td>56985</td>\n",
       "      <td>1.0</td>\n",
       "      <td>NaN</td>\n",
       "      <td>belgrano - venta  2 amb - full amenities -  a ...</td>\n",
       "      <td>* ante cualquier consulta comunicarse al 11 &lt;b...</td>\n",
       "      <td>belgrano</td>\n",
       "      <td>3.871201</td>\n",
       "      <td>SI</td>\n",
       "      <td>NO</td>\n",
       "      <td>NO</td>\n",
       "      <td>...</td>\n",
       "      <td>SI</td>\n",
       "      <td>NO</td>\n",
       "      <td>NO</td>\n",
       "      <td>NO</td>\n",
       "      <td>NO</td>\n",
       "      <td>NO</td>\n",
       "      <td>NO</td>\n",
       "      <td>NO</td>\n",
       "      <td>NO</td>\n",
       "      <td>NO</td>\n",
       "    </tr>\n",
       "  </tbody>\n",
       "</table>\n",
       "<p>3 rows × 28 columns</p>\n",
       "</div>"
      ],
      "text/plain": [
       "          id  bathrooms  price  \\\n",
       "12305  56983        1.0    NaN   \n",
       "12306  56984        1.0    NaN   \n",
       "12307  56985        1.0    NaN   \n",
       "\n",
       "                                                   title  \\\n",
       "12305                            departamento - paternal   \n",
       "12306                             departamento - palermo   \n",
       "12307  belgrano - venta  2 amb - full amenities -  a ...   \n",
       "\n",
       "                                             description    barrio  \\\n",
       "12305  descripción<br>semi piso 4 piso al frente<br>3...  paternal   \n",
       "12306  <br>departamento de 2 ambientes en inmejorable...  recoleta   \n",
       "12307  * ante cualquier consulta comunicarse al 11 <b...  belgrano   \n",
       "\n",
       "       scaled_surface_covered amoblado jardin patio  ... amenities estrenar  \\\n",
       "12305                4.276666       NO     NO    NO  ...        NO       NO   \n",
       "12306                3.891820       NO     NO    NO  ...        NO       NO   \n",
       "12307                3.871201       SI     NO    NO  ...        SI       NO   \n",
       "\n",
       "      ascensor contrafrente frente luminoso  ph duplex triplex casa  \n",
       "12305       NO           NO     SI       NO  NO     NO      NO   NO  \n",
       "12306       NO           NO     NO       NO  NO     NO      NO   NO  \n",
       "12307       NO           NO     NO       NO  NO     NO      NO   NO  \n",
       "\n",
       "[3 rows x 28 columns]"
      ]
     },
     "execution_count": 67,
     "metadata": {},
     "output_type": "execute_result"
    }
   ],
   "source": [
    "print(result_c6.shape)\n",
    "result_c6.tail(3)"
   ]
  },
  {
   "cell_type": "code",
   "execution_count": 80,
   "metadata": {},
   "outputs": [
    {
     "data": {
      "text/html": [
       "<div>\n",
       "<style scoped>\n",
       "    .dataframe tbody tr th:only-of-type {\n",
       "        vertical-align: middle;\n",
       "    }\n",
       "\n",
       "    .dataframe tbody tr th {\n",
       "        vertical-align: top;\n",
       "    }\n",
       "\n",
       "    .dataframe thead th {\n",
       "        text-align: right;\n",
       "    }\n",
       "</style>\n",
       "<table border=\"1\" class=\"dataframe\">\n",
       "  <thead>\n",
       "    <tr style=\"text-align: right;\">\n",
       "      <th></th>\n",
       "      <th>id</th>\n",
       "      <th>bathrooms</th>\n",
       "      <th>price</th>\n",
       "      <th>title</th>\n",
       "      <th>description</th>\n",
       "      <th>barrio</th>\n",
       "      <th>scaled_surface_covered</th>\n",
       "      <th>amoblado</th>\n",
       "      <th>jardin</th>\n",
       "      <th>patio</th>\n",
       "      <th>...</th>\n",
       "      <th>amenities</th>\n",
       "      <th>estrenar</th>\n",
       "      <th>ascensor</th>\n",
       "      <th>contrafrente</th>\n",
       "      <th>frente</th>\n",
       "      <th>luminoso</th>\n",
       "      <th>ph</th>\n",
       "      <th>duplex</th>\n",
       "      <th>triplex</th>\n",
       "      <th>casa</th>\n",
       "    </tr>\n",
       "  </thead>\n",
       "  <tbody>\n",
       "    <tr>\n",
       "      <th>0</th>\n",
       "      <td>44678</td>\n",
       "      <td>1.0</td>\n",
       "      <td>NaN</td>\n",
       "      <td>departamento - boedo</td>\n",
       "      <td>departamento 2 ambientes con piscina/terraza/s...</td>\n",
       "      <td>boedo</td>\n",
       "      <td>3.496508</td>\n",
       "      <td>NO</td>\n",
       "      <td>NO</td>\n",
       "      <td>NO</td>\n",
       "      <td>...</td>\n",
       "      <td>NO</td>\n",
       "      <td>NO</td>\n",
       "      <td>NO</td>\n",
       "      <td>SI</td>\n",
       "      <td>SI</td>\n",
       "      <td>NO</td>\n",
       "      <td>NO</td>\n",
       "      <td>NO</td>\n",
       "      <td>NO</td>\n",
       "      <td>NO</td>\n",
       "    </tr>\n",
       "    <tr>\n",
       "      <th>1</th>\n",
       "      <td>44679</td>\n",
       "      <td>1.0</td>\n",
       "      <td>NaN</td>\n",
       "      <td>departamento - villa urquiza</td>\n",
       "      <td>ole. corredor silvia serrano cpi 3809&lt;br&gt;venta...</td>\n",
       "      <td>villaurquiza</td>\n",
       "      <td>3.828641</td>\n",
       "      <td>NO</td>\n",
       "      <td>NO</td>\n",
       "      <td>NO</td>\n",
       "      <td>...</td>\n",
       "      <td>NO</td>\n",
       "      <td>NO</td>\n",
       "      <td>NO</td>\n",
       "      <td>NO</td>\n",
       "      <td>SI</td>\n",
       "      <td>SI</td>\n",
       "      <td>NO</td>\n",
       "      <td>NO</td>\n",
       "      <td>NO</td>\n",
       "      <td>NO</td>\n",
       "    </tr>\n",
       "    <tr>\n",
       "      <th>2</th>\n",
       "      <td>44680</td>\n",
       "      <td>2.0</td>\n",
       "      <td>NaN</td>\n",
       "      <td>departamento muy buen departamento en edificio...</td>\n",
       "      <td>excelente departamento en edificio de categorí...</td>\n",
       "      <td>nunez</td>\n",
       "      <td>4.127134</td>\n",
       "      <td>NO</td>\n",
       "      <td>NO</td>\n",
       "      <td>NO</td>\n",
       "      <td>...</td>\n",
       "      <td>NO</td>\n",
       "      <td>NO</td>\n",
       "      <td>NO</td>\n",
       "      <td>NO</td>\n",
       "      <td>SI</td>\n",
       "      <td>NO</td>\n",
       "      <td>NO</td>\n",
       "      <td>NO</td>\n",
       "      <td>NO</td>\n",
       "      <td>NO</td>\n",
       "    </tr>\n",
       "  </tbody>\n",
       "</table>\n",
       "<p>3 rows × 28 columns</p>\n",
       "</div>"
      ],
      "text/plain": [
       "      id  bathrooms  price                                              title  \\\n",
       "0  44678        1.0    NaN                               departamento - boedo   \n",
       "1  44679        1.0    NaN                       departamento - villa urquiza   \n",
       "2  44680        2.0    NaN  departamento muy buen departamento en edificio...   \n",
       "\n",
       "                                         description        barrio  \\\n",
       "0  departamento 2 ambientes con piscina/terraza/s...         boedo   \n",
       "1  ole. corredor silvia serrano cpi 3809<br>venta...  villaurquiza   \n",
       "2  excelente departamento en edificio de categorí...         nunez   \n",
       "\n",
       "   scaled_surface_covered amoblado jardin patio  ... amenities estrenar  \\\n",
       "0                3.496508       NO     NO    NO  ...        NO       NO   \n",
       "1                3.828641       NO     NO    NO  ...        NO       NO   \n",
       "2                4.127134       NO     NO    NO  ...        NO       NO   \n",
       "\n",
       "  ascensor contrafrente frente luminoso  ph duplex triplex casa  \n",
       "0       NO           SI     SI       NO  NO     NO      NO   NO  \n",
       "1       NO           NO     SI       SI  NO     NO      NO   NO  \n",
       "2       NO           NO     SI       NO  NO     NO      NO   NO  \n",
       "\n",
       "[3 rows x 28 columns]"
      ]
     },
     "execution_count": 80,
     "metadata": {},
     "output_type": "execute_result"
    }
   ],
   "source": [
    "df_modelo = result_c6.reset_index(drop=True)\n",
    "df_modelo.head(3)"
   ]
  },
  {
   "cell_type": "code",
   "execution_count": 81,
   "metadata": {},
   "outputs": [],
   "source": [
    "lst_cat = ['amoblado', 'jardin', 'patio', 'terraza', 'aire_acond', 'mascota',\n",
    "       'balcon', 'pileta', 'cochera', 'laundry', 'summ', 'amenities',\n",
    "       'estrenar', 'ascensor', 'contrafrente', 'frente', 'luminoso', 'ph',\n",
    "       'duplex', 'triplex', 'casa']\n",
    "\n",
    "for col in lst_cat:\n",
    "    \n",
    "    df_modelo[col] = df_modelo[col].astype('category')\n",
    "    df_modelo[col] = df_modelo[col] .cat.codes\n",
    "    "
   ]
  },
  {
   "cell_type": "code",
   "execution_count": 82,
   "metadata": {},
   "outputs": [
    {
     "data": {
      "text/html": [
       "<div>\n",
       "<style scoped>\n",
       "    .dataframe tbody tr th:only-of-type {\n",
       "        vertical-align: middle;\n",
       "    }\n",
       "\n",
       "    .dataframe tbody tr th {\n",
       "        vertical-align: top;\n",
       "    }\n",
       "\n",
       "    .dataframe thead th {\n",
       "        text-align: right;\n",
       "    }\n",
       "</style>\n",
       "<table border=\"1\" class=\"dataframe\">\n",
       "  <thead>\n",
       "    <tr style=\"text-align: right;\">\n",
       "      <th></th>\n",
       "      <th>barrio_aumentado</th>\n",
       "      <th>n</th>\n",
       "    </tr>\n",
       "  </thead>\n",
       "  <tbody>\n",
       "    <tr>\n",
       "      <th>0</th>\n",
       "      <td>palermo</td>\n",
       "      <td>3</td>\n",
       "    </tr>\n",
       "    <tr>\n",
       "      <th>1</th>\n",
       "      <td>belgrano</td>\n",
       "      <td>2</td>\n",
       "    </tr>\n",
       "    <tr>\n",
       "      <th>2</th>\n",
       "      <td>nunez</td>\n",
       "      <td>2</td>\n",
       "    </tr>\n",
       "    <tr>\n",
       "      <th>3</th>\n",
       "      <td>retiro</td>\n",
       "      <td>2</td>\n",
       "    </tr>\n",
       "    <tr>\n",
       "      <th>4</th>\n",
       "      <td>villasoldati</td>\n",
       "      <td>2</td>\n",
       "    </tr>\n",
       "  </tbody>\n",
       "</table>\n",
       "</div>"
      ],
      "text/plain": [
       "  barrio_aumentado  n\n",
       "0          palermo  3\n",
       "1         belgrano  2\n",
       "2            nunez  2\n",
       "3           retiro  2\n",
       "4     villasoldati  2"
      ]
     },
     "execution_count": 82,
     "metadata": {},
     "output_type": "execute_result"
    }
   ],
   "source": [
    "df_trenes = pd.read_csv(\"conteo_trenes.csv\")\n",
    "df_trenes.head()"
   ]
  },
  {
   "cell_type": "code",
   "execution_count": 83,
   "metadata": {},
   "outputs": [
    {
     "data": {
      "text/html": [
       "<div>\n",
       "<style scoped>\n",
       "    .dataframe tbody tr th:only-of-type {\n",
       "        vertical-align: middle;\n",
       "    }\n",
       "\n",
       "    .dataframe tbody tr th {\n",
       "        vertical-align: top;\n",
       "    }\n",
       "\n",
       "    .dataframe thead th {\n",
       "        text-align: right;\n",
       "    }\n",
       "</style>\n",
       "<table border=\"1\" class=\"dataframe\">\n",
       "  <thead>\n",
       "    <tr style=\"text-align: right;\">\n",
       "      <th></th>\n",
       "      <th>id</th>\n",
       "      <th>bathrooms</th>\n",
       "      <th>price</th>\n",
       "      <th>title</th>\n",
       "      <th>description</th>\n",
       "      <th>barrio</th>\n",
       "      <th>scaled_surface_covered</th>\n",
       "      <th>estacion_tren</th>\n",
       "      <th>expensas</th>\n",
       "    </tr>\n",
       "  </thead>\n",
       "  <tbody>\n",
       "    <tr>\n",
       "      <th>0</th>\n",
       "      <td>44678</td>\n",
       "      <td>1.0</td>\n",
       "      <td>NaN</td>\n",
       "      <td>departamento - boedo</td>\n",
       "      <td>departamento 2 ambientes con piscina/terraza/s...</td>\n",
       "      <td>boedo</td>\n",
       "      <td>3.496508</td>\n",
       "      <td>0</td>\n",
       "      <td>NaN</td>\n",
       "    </tr>\n",
       "    <tr>\n",
       "      <th>1</th>\n",
       "      <td>44679</td>\n",
       "      <td>1.0</td>\n",
       "      <td>NaN</td>\n",
       "      <td>departamento - villa urquiza</td>\n",
       "      <td>ole. corredor silvia serrano cpi 3809&lt;br&gt;venta...</td>\n",
       "      <td>villaurquiza</td>\n",
       "      <td>3.828641</td>\n",
       "      <td>0</td>\n",
       "      <td>NaN</td>\n",
       "    </tr>\n",
       "    <tr>\n",
       "      <th>2</th>\n",
       "      <td>44680</td>\n",
       "      <td>2.0</td>\n",
       "      <td>NaN</td>\n",
       "      <td>departamento muy buen departamento en edificio...</td>\n",
       "      <td>excelente departamento en edificio de categorí...</td>\n",
       "      <td>nunez</td>\n",
       "      <td>4.127134</td>\n",
       "      <td>0</td>\n",
       "      <td>NaN</td>\n",
       "    </tr>\n",
       "  </tbody>\n",
       "</table>\n",
       "</div>"
      ],
      "text/plain": [
       "      id  bathrooms  price                                              title  \\\n",
       "0  44678        1.0    NaN                               departamento - boedo   \n",
       "1  44679        1.0    NaN                       departamento - villa urquiza   \n",
       "2  44680        2.0    NaN  departamento muy buen departamento en edificio...   \n",
       "\n",
       "                                         description        barrio  \\\n",
       "0  departamento 2 ambientes con piscina/terraza/s...         boedo   \n",
       "1  ole. corredor silvia serrano cpi 3809<br>venta...  villaurquiza   \n",
       "2  excelente departamento en edificio de categorí...         nunez   \n",
       "\n",
       "   scaled_surface_covered  estacion_tren  expensas  \n",
       "0                3.496508              0       NaN  \n",
       "1                3.828641              0       NaN  \n",
       "2                4.127134              0       NaN  "
      ]
     },
     "execution_count": 83,
     "metadata": {},
     "output_type": "execute_result"
    }
   ],
   "source": [
    "df_completo['estacion_tren'] = 0\n",
    "for exp in range(0,df_trenes.shape[0]):\n",
    "    estacion_tren_rows = df_modelo[df_modelo['barrio'] == df_trenes['barrio_aumentado'][exp]]\n",
    "    df_modelo.at[estacion_tren_rows.index, 'estacion_tren'] = df_trenes['n'][exp]\n",
    "df_completo.head(3)"
   ]
  },
  {
   "cell_type": "code",
   "execution_count": 84,
   "metadata": {},
   "outputs": [
    {
     "data": {
      "text/html": [
       "<div>\n",
       "<style scoped>\n",
       "    .dataframe tbody tr th:only-of-type {\n",
       "        vertical-align: middle;\n",
       "    }\n",
       "\n",
       "    .dataframe tbody tr th {\n",
       "        vertical-align: top;\n",
       "    }\n",
       "\n",
       "    .dataframe thead th {\n",
       "        text-align: right;\n",
       "    }\n",
       "</style>\n",
       "<table border=\"1\" class=\"dataframe\">\n",
       "  <thead>\n",
       "    <tr style=\"text-align: right;\">\n",
       "      <th></th>\n",
       "      <th>barrio</th>\n",
       "      <th>expensas</th>\n",
       "    </tr>\n",
       "  </thead>\n",
       "  <tbody>\n",
       "    <tr>\n",
       "      <th>0</th>\n",
       "      <td>agronomia</td>\n",
       "      <td>2396.49</td>\n",
       "    </tr>\n",
       "    <tr>\n",
       "      <th>1</th>\n",
       "      <td>almagro</td>\n",
       "      <td>3652.52</td>\n",
       "    </tr>\n",
       "    <tr>\n",
       "      <th>2</th>\n",
       "      <td>balvanera</td>\n",
       "      <td>3477.26</td>\n",
       "    </tr>\n",
       "    <tr>\n",
       "      <th>3</th>\n",
       "      <td>barracas</td>\n",
       "      <td>3695.70</td>\n",
       "    </tr>\n",
       "    <tr>\n",
       "      <th>4</th>\n",
       "      <td>belgrano</td>\n",
       "      <td>4577.08</td>\n",
       "    </tr>\n",
       "  </tbody>\n",
       "</table>\n",
       "</div>"
      ],
      "text/plain": [
       "      barrio  expensas\n",
       "0  agronomia   2396.49\n",
       "1    almagro   3652.52\n",
       "2  balvanera   3477.26\n",
       "3   barracas   3695.70\n",
       "4   belgrano   4577.08"
      ]
     },
     "execution_count": 84,
     "metadata": {},
     "output_type": "execute_result"
    }
   ],
   "source": [
    "df_expensas = pd.read_csv(\"expensas.csv\")\n",
    "df_expensas['barrio'] = df_expensas['barrio'].str.lower()\n",
    "df_expensas.barrio = df_expensas.barrio.str.replace(' ', '')\n",
    "df_expensas.head()"
   ]
  },
  {
   "cell_type": "code",
   "execution_count": 85,
   "metadata": {},
   "outputs": [],
   "source": [
    "df_completo['expensas'] = np.NaN\n",
    "for exp in range(0,df_expensas.shape[0]):\n",
    "    expensas_rows = df_modelo[df_modelo['barrio'] == df_expensas['barrio'][exp]]\n",
    "    df_modelo.at[expensas_rows.index, 'expensas'] = df_expensas['expensas'][exp]"
   ]
  },
  {
   "cell_type": "code",
   "execution_count": 86,
   "metadata": {},
   "outputs": [
    {
     "data": {
      "text/plain": [
       "id                          int64\n",
       "bathrooms                 float64\n",
       "price                     float64\n",
       "title                      object\n",
       "description                object\n",
       "barrio                     object\n",
       "scaled_surface_covered    float64\n",
       "amoblado                     int8\n",
       "jardin                       int8\n",
       "patio                        int8\n",
       "terraza                      int8\n",
       "aire_acond                   int8\n",
       "mascota                      int8\n",
       "balcon                       int8\n",
       "pileta                       int8\n",
       "cochera                      int8\n",
       "laundry                      int8\n",
       "summ                         int8\n",
       "amenities                    int8\n",
       "estrenar                     int8\n",
       "ascensor                     int8\n",
       "contrafrente                 int8\n",
       "frente                       int8\n",
       "luminoso                     int8\n",
       "ph                           int8\n",
       "duplex                       int8\n",
       "triplex                      int8\n",
       "casa                         int8\n",
       "estacion_tren             float64\n",
       "expensas                  float64\n",
       "dtype: object"
      ]
     },
     "execution_count": 86,
     "metadata": {},
     "output_type": "execute_result"
    }
   ],
   "source": [
    "df_modelo.dtypes"
   ]
  },
  {
   "cell_type": "code",
   "execution_count": null,
   "metadata": {},
   "outputs": [],
   "source": []
  },
  {
   "cell_type": "code",
   "execution_count": null,
   "metadata": {},
   "outputs": [],
   "source": []
  },
  {
   "cell_type": "code",
   "execution_count": 87,
   "metadata": {},
   "outputs": [
    {
     "data": {
      "text/html": [
       "<div>\n",
       "<style scoped>\n",
       "    .dataframe tbody tr th:only-of-type {\n",
       "        vertical-align: middle;\n",
       "    }\n",
       "\n",
       "    .dataframe tbody tr th {\n",
       "        vertical-align: top;\n",
       "    }\n",
       "\n",
       "    .dataframe thead th {\n",
       "        text-align: right;\n",
       "    }\n",
       "</style>\n",
       "<table border=\"1\" class=\"dataframe\">\n",
       "  <thead>\n",
       "    <tr style=\"text-align: right;\">\n",
       "      <th></th>\n",
       "      <th>id</th>\n",
       "      <th>bathrooms</th>\n",
       "      <th>scaled_surface_covered</th>\n",
       "      <th>mascota</th>\n",
       "      <th>pileta</th>\n",
       "      <th>cochera</th>\n",
       "      <th>amenities</th>\n",
       "      <th>ph</th>\n",
       "      <th>expensas</th>\n",
       "    </tr>\n",
       "  </thead>\n",
       "  <tbody>\n",
       "    <tr>\n",
       "      <th>0</th>\n",
       "      <td>44678</td>\n",
       "      <td>1.0</td>\n",
       "      <td>3.496508</td>\n",
       "      <td>0</td>\n",
       "      <td>1</td>\n",
       "      <td>1</td>\n",
       "      <td>0</td>\n",
       "      <td>0</td>\n",
       "      <td>3354.07</td>\n",
       "    </tr>\n",
       "    <tr>\n",
       "      <th>1</th>\n",
       "      <td>44679</td>\n",
       "      <td>1.0</td>\n",
       "      <td>3.828641</td>\n",
       "      <td>0</td>\n",
       "      <td>0</td>\n",
       "      <td>1</td>\n",
       "      <td>0</td>\n",
       "      <td>0</td>\n",
       "      <td>3318.51</td>\n",
       "    </tr>\n",
       "    <tr>\n",
       "      <th>2</th>\n",
       "      <td>44680</td>\n",
       "      <td>2.0</td>\n",
       "      <td>4.127134</td>\n",
       "      <td>0</td>\n",
       "      <td>1</td>\n",
       "      <td>0</td>\n",
       "      <td>0</td>\n",
       "      <td>0</td>\n",
       "      <td>4326.89</td>\n",
       "    </tr>\n",
       "  </tbody>\n",
       "</table>\n",
       "</div>"
      ],
      "text/plain": [
       "      id  bathrooms  scaled_surface_covered  mascota  pileta  cochera  \\\n",
       "0  44678        1.0                3.496508        0       1        1   \n",
       "1  44679        1.0                3.828641        0       0        1   \n",
       "2  44680        2.0                4.127134        0       1        0   \n",
       "\n",
       "   amenities  ph  expensas  \n",
       "0          0   0   3354.07  \n",
       "1          0   0   3318.51  \n",
       "2          0   0   4326.89  "
      ]
     },
     "execution_count": 87,
     "metadata": {},
     "output_type": "execute_result"
    }
   ],
   "source": [
    "lst_var = ['id','bathrooms',\n",
    " 'scaled_surface_covered',\n",
    " 'mascota',\n",
    " 'pileta',\n",
    " 'cochera',\n",
    " 'amenities',\n",
    " 'ph',\n",
    " 'expensas']\n",
    "\n",
    "df_modelo = df_modelo[lst_var]\n",
    "df_modelo.head(3)"
   ]
  },
  {
   "cell_type": "code",
   "execution_count": 88,
   "metadata": {},
   "outputs": [],
   "source": [
    "df_modelo.to_csv(\"datos_para_test.csv\")"
   ]
  },
  {
   "cell_type": "markdown",
   "metadata": {},
   "source": [
    "### Para Kaggle"
   ]
  },
  {
   "cell_type": "code",
   "execution_count": null,
   "metadata": {},
   "outputs": [],
   "source": [
    "subir_kaggle = pd.read_csv(\"datos_para_test.csv\")\n",
    "subir_kaggle.drop(['Unnamed: 0'], axis=1,inplace=True)"
   ]
  },
  {
   "cell_type": "code",
   "execution_count": null,
   "metadata": {},
   "outputs": [],
   "source": [
    "al_modelo = subir_kaggle.copy()\n",
    "al_modelo.drop(['id'], axis=1,inplace=True)\n",
    "al_modelo.head(3)"
   ]
  },
  {
   "cell_type": "code",
   "execution_count": null,
   "metadata": {},
   "outputs": [],
   "source": [
    "price_salida = np.expm1(best_grid.predict(al_modelo))\n",
    "price_salida"
   ]
  },
  {
   "cell_type": "code",
   "execution_count": null,
   "metadata": {},
   "outputs": [],
   "source": [
    "df = pd.DataFrame(data)\n",
    "df"
   ]
  },
  {
   "cell_type": "code",
   "execution_count": null,
   "metadata": {},
   "outputs": [],
   "source": [
    "plt.subplots(figsize=(8, 5))\n",
    "plt.subplot(1, 2, 1)\n",
    "sns.boxplot(y = round(np.expm1(y_test),2))\n",
    "\n",
    "plt.subplot(1, 2, 2)\n",
    "sns.boxplot(y = price_salida)"
   ]
  },
  {
   "cell_type": "code",
   "execution_count": null,
   "metadata": {},
   "outputs": [],
   "source": [
    "df.to_csv(\"salida_a_kaggle.csv\")"
   ]
  }
 ],
 "metadata": {
  "kernelspec": {
   "display_name": "multi",
   "language": "python",
   "name": "multi"
  },
  "language_info": {
   "codemirror_mode": {
    "name": "ipython",
    "version": 3
   },
   "file_extension": ".py",
   "mimetype": "text/x-python",
   "name": "python",
   "nbconvert_exporter": "python",
   "pygments_lexer": "ipython3",
   "version": "3.8.3"
  }
 },
 "nbformat": 4,
 "nbformat_minor": 4
}
